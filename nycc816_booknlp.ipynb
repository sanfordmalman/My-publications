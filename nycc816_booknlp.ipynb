{
  "cells": [
    {
      "cell_type": "markdown",
      "metadata": {
        "id": "view-in-github",
        "colab_type": "text"
      },
      "source": [
        "<a href=\"https://colab.research.google.com/github/sanfordmalman/My-publications/blob/master/nycc816_booknlp.ipynb\" target=\"_parent\"><img src=\"https://colab.research.google.com/assets/colab-badge.svg\" alt=\"Open In Colab\"/></a>"
      ]
    },
    {
      "cell_type": "code",
      "execution_count": null,
      "metadata": {
        "id": "kyFvm3-rtsk3"
      },
      "outputs": [],
      "source": []
    },
    {
      "cell_type": "markdown",
      "metadata": {
        "id": "TuA1-sTwlCJW"
      },
      "source": [
        "Demo for running BookNLP on an input text.  To use a GPU in Google Colab, change the following:\n",
        "\n",
        "`Runtime > Change runtime type > Hardware accelerator > GPU`\n",
        "\n",
        "To execute this notebook, sign in to Google and then run all cells\n",
        "\n",
        "`Runtime > Run all`"
      ]
    },
    {
      "cell_type": "markdown",
      "metadata": {
        "id": "M48oGw-eTHyt"
      },
      "source": [
        "# Apply BookNLP to New Yorker caption contest #816"
      ]
    },
    {
      "cell_type": "code",
      "execution_count": null,
      "metadata": {
        "id": "nWx9vAwBiTyq"
      },
      "outputs": [],
      "source": [
        "!pip install booknlp"
      ]
    },
    {
      "cell_type": "code",
      "execution_count": null,
      "metadata": {
        "id": "-DbYUp6giZWY"
      },
      "outputs": [],
      "source": [
        "with open(\"/txt816.txt\") as f:\n",
        "  text816=f.read()\n",
        "  print(text816)"
      ]
    },
    {
      "cell_type": "code",
      "execution_count": null,
      "metadata": {
        "id": "JOzcr7ihm_Lw"
      },
      "outputs": [],
      "source": [
        "from google.colab import files\n",
        "\n",
        "uploaded = files.upload()"
      ]
    },
    {
      "cell_type": "code",
      "execution_count": null,
      "metadata": {
        "id": "B0NnwfyPT2z7"
      },
      "outputs": [],
      "source": []
    },
    {
      "cell_type": "code",
      "execution_count": null,
      "metadata": {
        "id": "I98DHk3gio-D"
      },
      "outputs": [],
      "source": [
        "!python -m spacy download en_core_web_sm"
      ]
    },
    {
      "cell_type": "code",
      "execution_count": null,
      "metadata": {
        "id": "hwJkpzZJnaMW"
      },
      "outputs": [],
      "source": [
        "from booknlp.booknlp import BookNLP"
      ]
    },
    {
      "cell_type": "code",
      "execution_count": null,
      "metadata": {
        "id": "aZwK2xbGiwcC"
      },
      "outputs": [],
      "source": [
        "model_params={\n",
        "\t\t\"pipeline\":\"entity,quote,supersense,event,coref\", \n",
        "\t\t\"model\":\"big\", \n",
        "\t}\n",
        "\n",
        "booknlp=BookNLP(\"en\", model_params)"
      ]
    },
    {
      "cell_type": "code",
      "execution_count": null,
      "metadata": {
        "colab": {
          "background_save": true
        },
        "id": "DFMVdPU_jG9b"
      },
      "outputs": [],
      "source": [
        "inputFile=\"txt816.txt\"\n",
        "outputDir=\"txt816_dir/\"\n",
        "idd=\"txt816\"\n",
        "\n",
        "booknlp.process(inputFile,outputDir,idd)"
      ]
    },
    {
      "cell_type": "markdown",
      "metadata": {
        "id": "1NATp_X24tLT"
      },
      "source": [
        "# New Section"
      ]
    },
    {
      "cell_type": "code",
      "execution_count": null,
      "metadata": {
        "id": "xH-f9U9c_7-i"
      },
      "outputs": [],
      "source": []
    },
    {
      "cell_type": "code",
      "execution_count": null,
      "metadata": {
        "id": "CVb7N2RDkLVm"
      },
      "outputs": [],
      "source": []
    },
    {
      "cell_type": "code",
      "execution_count": null,
      "metadata": {
        "id": "fN3SlIhMsVGe"
      },
      "outputs": [],
      "source": []
    },
    {
      "cell_type": "code",
      "execution_count": null,
      "metadata": {
        "id": "LNnWU0KOsWcu"
      },
      "outputs": [],
      "source": []
    },
    {
      "cell_type": "code",
      "execution_count": null,
      "metadata": {
        "id": "gev0-r5tsaWD"
      },
      "outputs": [],
      "source": []
    },
    {
      "cell_type": "code",
      "execution_count": null,
      "metadata": {
        "id": "BRy3gYpJse48"
      },
      "outputs": [],
      "source": []
    },
    {
      "cell_type": "code",
      "execution_count": null,
      "metadata": {
        "id": "L0KrD7rYsf6r"
      },
      "outputs": [],
      "source": []
    }
  ],
  "metadata": {
    "accelerator": "GPU",
    "colab": {
      "provenance": [],
      "include_colab_link": true
    },
    "gpuClass": "standard",
    "kernelspec": {
      "display_name": "Python 3",
      "name": "python3"
    },
    "language_info": {
      "name": "python"
    }
  },
  "nbformat": 4,
  "nbformat_minor": 0
}
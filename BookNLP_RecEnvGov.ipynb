{
  "nbformat": 4,
  "nbformat_minor": 0,
  "metadata": {
    "colab": {
      "name": "BookNLP Demo",
      "provenance": [],
      "collapsed_sections": [],
      "include_colab_link": true
    },
    "kernelspec": {
      "name": "python3",
      "display_name": "Python 3"
    },
    "language_info": {
      "name": "python"
    },
    "accelerator": "GPU"
  },
  "cells": [
    {
      "cell_type": "markdown",
      "metadata": {
        "id": "view-in-github",
        "colab_type": "text"
      },
      "source": [
        "<a href=\"https://colab.research.google.com/github/sanfordmalman/My-publications/blob/master/BookNLP_RecEnvGov.ipynb\" target=\"_parent\"><img src=\"https://colab.research.google.com/assets/colab-badge.svg\" alt=\"Open In Colab\"/></a>"
      ]
    },
    {
      "cell_type": "markdown",
      "metadata": {
        "id": "TuA1-sTwlCJW"
      },
      "source": [
        "Demo for running BookNLP on an input text.  To use a GPU in Google Colab, change the following:\n",
        "\n",
        "`Runtime > Change runtime type > Hardware accelerator > GPU`\n",
        "\n",
        "To execute this notebook, sign in to Google and then run all cells\n",
        "\n",
        "`Runtime > Run all`"
      ]
    },
    {
      "cell_type": "code",
      "metadata": {
        "id": "nWx9vAwBiTyq"
      },
      "source": [
        "!pip install booknlp"
      ],
      "execution_count": null,
      "outputs": []
    },
    {
      "cell_type": "code",
      "metadata": {
        "id": "-DbYUp6giZWY"
      },
      "source": [
        "!wget https://www.gutenberg.org/files/208/208.txt -O 208_daisy_miller.txt"
      ],
      "execution_count": null,
      "outputs": []
    },
    {
      "cell_type": "code",
      "metadata": {
        "id": "I98DHk3gio-D"
      },
      "source": [
        "!python -m spacy download en_core_web_sm"
      ],
      "execution_count": null,
      "outputs": []
    },
    {
      "cell_type": "code",
      "metadata": {
        "id": "hwJkpzZJnaMW"
      },
      "source": [
        "from booknlp.booknlp import BookNLP"
      ],
      "execution_count": null,
      "outputs": []
    },
    {
      "cell_type": "code",
      "metadata": {
        "id": "aZwK2xbGiwcC"
      },
      "source": [
        "model_params={\n",
        "\t\t\"pipeline\":\"entity,quote,supersense,event,coref\", \n",
        "\t\t\"model\":\"big\", \n",
        "\t}\n",
        "\n",
        "booknlp=BookNLP(\"en\", model_params)"
      ],
      "execution_count": null,
      "outputs": []
    },
    {
      "cell_type": "code",
      "metadata": {
        "id": "DFMVdPU_jG9b"
      },
      "source": [
        "inputFile=\"208_daisy_miller.txt\"\n",
        "outputDir=\"208_daisy_miller/\"\n",
        "idd=\"208_daisy_miller\"\n",
        "\n",
        "booknlp.process(inputFile, outputDir, idd)"
      ],
      "execution_count": null,
      "outputs": []
    },
    {
      "cell_type": "code",
      "metadata": {
        "id": "CVb7N2RDkLVm"
      },
      "source": [
        "import json\n",
        "from collections import Counter"
      ],
      "execution_count": null,
      "outputs": []
    },
    {
      "cell_type": "code",
      "metadata": {
        "id": "fN3SlIhMsVGe"
      },
      "source": [
        "def proc(filename):\n",
        "    with open(filename) as file:\n",
        "        data=json.load(file)\n",
        "    return data"
      ],
      "execution_count": null,
      "outputs": []
    },
    {
      "cell_type": "code",
      "metadata": {
        "id": "LNnWU0KOsWcu"
      },
      "source": [
        "data=proc(\"208_daisy_miller/208_daisy_miller.book\")"
      ],
      "execution_count": null,
      "outputs": []
    },
    {
      "cell_type": "code",
      "metadata": {
        "id": "gev0-r5tsaWD"
      },
      "source": [
        "def get_counter_from_dependency_list(dep_list):\n",
        "    counter=Counter()\n",
        "    for token in dep_list:\n",
        "        term=token[\"w\"]\n",
        "        tokenGlobalIndex=token[\"i\"]\n",
        "        counter[term]+=1\n",
        "    return counter"
      ],
      "execution_count": null,
      "outputs": []
    },
    {
      "cell_type": "code",
      "metadata": {
        "id": "BRy3gYpJse48"
      },
      "source": [
        "for character in data[\"characters\"]:\n",
        "    \n",
        "    agentList=character[\"agent\"]\n",
        "    patientList=character[\"patient\"]\n",
        "    possList=character[\"poss\"]\n",
        "    modList=character[\"mod\"]\n",
        "    \n",
        "    character_id=character[\"id\"]\n",
        "    count=character[\"count\"]\n",
        "\n",
        "    referential_gender_distribution=referential_gender_prediction=\"unknown\"\n",
        "\n",
        "    if character[\"g\"] is not None and character[\"g\"] != \"unknown\":\n",
        "        referential_gender_distribution=character[\"g\"][\"inference\"]\n",
        "        referential_gender=character[\"g\"][\"argmax\"]\n",
        "\n",
        "    mentions=character[\"mentions\"]\n",
        "    proper_mentions=mentions[\"proper\"]\n",
        "    max_proper_mention=\"\"\n",
        "\n",
        "    # just print out information about named characters\n",
        "    if len(mentions[\"proper\"]) > 0:\n",
        "        max_proper_mention=mentions[\"proper\"][0][\"n\"]\n",
        "        \n",
        "        print(character_id, count, max_proper_mention, referential_gender)\n",
        "\n",
        "        print()\n",
        "        printTop=10\n",
        "        for k, v in get_counter_from_dependency_list(possList).most_common(printTop):\n",
        "            print(\"\\tposs\\t%s %s\" % (v,k))\n",
        "        print()\n",
        "        for k, v in get_counter_from_dependency_list(agentList).most_common(printTop):\n",
        "            print(\"\\tagent\\t%s %s\" % (v,k))        \n",
        "        print()\n",
        "        for k, v in get_counter_from_dependency_list(patientList).most_common(printTop):\n",
        "            print(\"\\tpatient\\t%s %s\" % (v,k))       \n",
        "        print()\n",
        "        for k, v in get_counter_from_dependency_list(modList).most_common(printTop):\n",
        "            print(\"\\tmod\\t%s %s\" % (v,k))    \n",
        "        print()"
      ],
      "execution_count": null,
      "outputs": []
    },
    {
      "cell_type": "code",
      "metadata": {
        "id": "L0KrD7rYsf6r"
      },
      "source": [
        ""
      ],
      "execution_count": null,
      "outputs": []
    }
  ]
}